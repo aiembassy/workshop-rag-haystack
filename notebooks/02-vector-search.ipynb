{
 "cells": [
  {
   "cell_type": "markdown",
   "id": "bea07018-2982-47d3-8d24-8763b3737557",
   "metadata": {},
   "source": [
    "[![Open In Colab](https://colab.research.google.com/assets/colab-badge.svg)](https://colab.research.google.com/github/aiembassy/workshop-rag-haystack/blob/master/notebooks/02-vector-search.ipynb)"
   ]
  },
  {
   "cell_type": "code",
   "execution_count": null,
   "id": "413d65e5-6c76-41fd-912f-9e3276a0bb18",
   "metadata": {},
   "outputs": [],
   "source": [
    "!pip install \"haystack-ai\" \\\n",
    "    \"qdrant-haystack\" \\\n",
    "    \"qdrant-client\" \\\n",
    "    \"sentence-transformers\""
   ]
  },
  {
   "cell_type": "markdown",
   "id": "90f284e3b3222399",
   "metadata": {},
   "source": [
    "# Vector search\n",
    "\n",
    "Although vector search is not the only method to find relevant documents given a query, LLM applications usually offer a more conversational-like interface than search engines. Users can express themselves using natural language, not long-crafted queries, with a selection of keywords that can possibly match the words used in the database."
   ]
  },
  {
   "cell_type": "code",
   "execution_count": null,
   "id": "c5c015a2f14e23c5",
   "metadata": {},
   "outputs": [],
   "source": [
    "from haystack.components.embedders import SentenceTransformersTextEmbedder\n",
    "\n",
    "text_embedder = SentenceTransformersTextEmbedder(model=\"all-MiniLM-L6-v2\")\n",
    "text_embedder.warm_up()  # That downloads the model from the hub"
   ]
  },
  {
   "cell_type": "code",
   "execution_count": null,
   "id": "5182cbf7e218cfe5",
   "metadata": {},
   "outputs": [],
   "source": [
    "texts = [\n",
    "    \"Which continent has the most countries?\",\n",
    "    \"What is the longest river in the world?\",\n",
    "    \"Which country has the most islands in the world?\",\n",
    "]"
   ]
  },
  {
   "cell_type": "code",
   "execution_count": null,
   "id": "86d2c160547c8806",
   "metadata": {},
   "outputs": [],
   "source": [
    "embeddings = []\n",
    "for text in texts:\n",
    "    vector = text_embedder.run(text=text)[\"embedding\"]\n",
    "    embeddings.append(vector)\n",
    "\n",
    "len(embeddings[0])"
   ]
  },
  {
   "cell_type": "code",
   "execution_count": null,
   "id": "b0b98952e75cf44d",
   "metadata": {},
   "outputs": [],
   "source": [
    "import numpy as np\n",
    "\n",
    "\n",
    "def cosine_distance(v: list[float], w: list[float]) -> float:\n",
    "    v, w = np.array(v), np.array(w)\n",
    "    v /= np.linalg.norm(x=v, keepdims=True)\n",
    "    w /= np.linalg.norm(x=w, keepdims=True)\n",
    "    return np.dot(a=v, b=w.T).tolist()"
   ]
  },
  {
   "cell_type": "code",
   "execution_count": null,
   "id": "a80affa31f958dc4",
   "metadata": {},
   "outputs": [],
   "source": [
    "cosine_distance(embeddings[0], embeddings[1])"
   ]
  },
  {
   "cell_type": "code",
   "execution_count": null,
   "id": "9cdad791716d99ea",
   "metadata": {},
   "outputs": [],
   "source": [
    "cosine_distance(embeddings[0], embeddings[2])"
   ]
  },
  {
   "cell_type": "markdown",
   "id": "fbe704ccf4ee913a",
   "metadata": {},
   "source": [
    "### Text vs document embeddings\n",
    "\n",
    "When we build any kind of text search mechanism, we have documents and queries. Documents contain not only some textual data, but usually also some kind of unique identifier and metadata. This is also reflected in Haystack, as there is a concept of a `Document`."
   ]
  },
  {
   "cell_type": "code",
   "execution_count": null,
   "id": "d1e2dc3a0f53ba80",
   "metadata": {},
   "outputs": [],
   "source": [
    "from haystack import Document\n",
    "\n",
    "document = Document(\n",
    "    id=\"my-unique-document-id\",  # Typically more some kind of UUID\n",
    "    content=\"Africa has the most countries with 54 internationally recognized sovereign states.\",\n",
    "    meta={\n",
    "        \"source\": \"Wikipedia\",\n",
    "        \"author\": \"John Doe\",\n",
    "        \"date\": \"2025-01-05\",\n",
    "    },\n",
    ")\n",
    "document"
   ]
  },
  {
   "cell_type": "markdown",
   "id": "72ecc432cce38d75",
   "metadata": {},
   "source": [
    "Vectors are usually created out of the text data, but there is nothing wrong with including some metadata in the vectorization process. Haystack has two different kinds of embedders: one for documents, and another one for queries. There is usually a counterpart for each of them."
   ]
  },
  {
   "cell_type": "code",
   "execution_count": null,
   "id": "6f22fbcc9664da35",
   "metadata": {},
   "outputs": [],
   "source": [
    "from haystack.components.embedders import SentenceTransformersDocumentEmbedder\n",
    "\n",
    "document_embedder = SentenceTransformersDocumentEmbedder(model=\"all-MiniLM-L6-v2\")\n",
    "document_embedder.warm_up()"
   ]
  },
  {
   "cell_type": "code",
   "execution_count": null,
   "id": "8bcbfbde7456925a",
   "metadata": {},
   "outputs": [],
   "source": [
    "document_embedder.run(documents=[document])\n",
    "document"
   ]
  },
  {
   "cell_type": "code",
   "execution_count": null,
   "id": "250fa0a220364164",
   "metadata": {},
   "outputs": [],
   "source": [
    "cosine_distance(document.embedding, embeddings[0])"
   ]
  },
  {
   "cell_type": "code",
   "execution_count": null,
   "id": "637e92cbbe02fd25",
   "metadata": {},
   "outputs": [],
   "source": [
    "cosine_distance(document.embedding, embeddings[1])"
   ]
  },
  {
   "cell_type": "code",
   "execution_count": null,
   "id": "313cb29d68b9d290",
   "metadata": {},
   "outputs": [],
   "source": [
    "cosine_distance(document.embedding, embeddings[2])"
   ]
  },
  {
   "cell_type": "markdown",
   "id": "10a7e627a468a245",
   "metadata": {},
   "source": [
    "Embedding models are trained in a way that they produce high similarity scores between the query and the document if they are semantically similar. This is why we can use usually use cosine similarity to compare the vectors. The closer the score is to 1, the more similar the vectors are."
   ]
  },
  {
   "cell_type": "markdown",
   "id": "979c0588b915e29c",
   "metadata": {},
   "source": [
    "## Vector databases\n",
    "\n",
    "Real-world applications operate on thousands or even millions of documents. We could possibly store their embeddings in an existing database powering our system, but search operations would need to download all the embeddings and calculate the similarity scores between the query and each document. This is not efficient, especially when we have to do it in real-time. Vector databases are designed to store and search for vectors efficiently, but they approximate the search results. They are not as precise as the brute-force search, but they are much faster."
   ]
  },
  {
   "cell_type": "code",
   "execution_count": null,
   "id": "472d6593e61c7375",
   "metadata": {},
   "outputs": [],
   "source": [
    "from haystack_integrations.document_stores.qdrant import QdrantDocumentStore\n",
    "\n",
    "document_store = QdrantDocumentStore(\n",
    "    \":memory:\",  # Never use in production systems! It's a mode only for testing purposes.\n",
    "    embedding_dim=384,  # The size of the embeddings produced by the model\n",
    "    index=\"facts\",  # We can have multiple indexes in the same database\n",
    ")"
   ]
  },
  {
   "cell_type": "code",
   "execution_count": null,
   "id": "a8db989be28d5be1",
   "metadata": {},
   "outputs": [],
   "source": [
    "facts = [\n",
    "    \"Africa has the most countries with 54 internationally recognized sovereign states.\",\n",
    "    \"The Nile River is the longest river in the world, stretching approximately 6,650 kilometers (4,132 miles) through eleven countries in northeastern Africa.\",\n",
    "    \"Sweden has the most islands in the world, with over 267,570 islands, though only about 984 of them are inhabited.\",\n",
    "    \"Vatican City, with an area of just 0.44 square kilometers (0.17 square miles), is the world's smallest independent state.\",\n",
    "    \"The Andes Mountains are the longest continental mountain range in the world, stretching about 7,000 kilometers (4,300 miles) along South America's western coast.\",\n",
    "    \"The Challenger Deep in the Mariana Trench is the deepest known point on Earth, reaching a depth of approximately 11,034 meters (36,201 feet) below sea level.\",\n",
    "    \"The Antarctic Desert is technically the world's largest desert. However, if considering only hot deserts, the Sahara Desert is the largest, covering about 9.2 million square kilometers (3.6 million square miles).\",\n",
    "    \"Indonesia has the most volcanoes of any country, with 147 volcanoes, of which around 129 are considered active.\",\n",
    "    \"The Dead Sea, located between Israel and Jordan, has the highest salt concentration of any body of water on Earth, with about 34% salinity.\",\n",
    "    \"La Paz, Bolivia, is the world's highest administrative capital at approximately 3,650 meters (11,975 feet) above sea level, although Sucre is the constitutional capital.\",\n",
    "]"
   ]
  },
  {
   "cell_type": "code",
   "execution_count": null,
   "id": "82f02168284056d6",
   "metadata": {},
   "outputs": [],
   "source": [
    "import uuid\n",
    "\n",
    "documents = [\n",
    "    Document(\n",
    "        id=uuid.uuid4().hex,\n",
    "        content=fact,\n",
    "        meta={\n",
    "            \"source\": \"Wikipedia\",\n",
    "            \"author\": \"John Doe\",\n",
    "            \"date\": \"2025-01-05\",\n",
    "            \"category\": \"Geography\",  # That's a new attribute!\n",
    "        },\n",
    "    )\n",
    "    for fact in facts\n",
    "]\n",
    "document_embedder.run(documents=documents)\n",
    "\n",
    "# Save the documents to the database and display the current number of documents.\n",
    "# Since we are using an in-memory database, the documents will be lost after the\n",
    "# kernel restart.\n",
    "document_store.write_documents(documents)\n",
    "document_store.count_documents()"
   ]
  },
  {
   "cell_type": "markdown",
   "id": "7a4feac57bd8a55d",
   "metadata": {},
   "source": [
    "### Search with vector databases\n",
    "\n",
    "We can now search for the most similar documents to the query. The search is done in the vector database, and the results are returned in a sorted order, with the most similar documents first."
   ]
  },
  {
   "cell_type": "code",
   "execution_count": null,
   "id": "3ed82d29018b3956",
   "metadata": {},
   "outputs": [],
   "source": [
    "from haystack_integrations.components.retrievers.qdrant import QdrantEmbeddingRetriever\n",
    "\n",
    "retriever = QdrantEmbeddingRetriever(document_store=document_store)"
   ]
  },
  {
   "cell_type": "code",
   "execution_count": null,
   "id": "9a8bf00a9de6e684",
   "metadata": {},
   "outputs": [],
   "source": [
    "questions = [\n",
    "    \"Which continent has the most countries?\",\n",
    "    \"What is the longest river in the world?\",\n",
    "    \"Which country has the most islands in the world?\",\n",
    "    \"What is the smallest country in the world by area?\",\n",
    "    \"Which mountain range is the longest in the world?\",\n",
    "    \"What is the deepest point in the ocean?\",\n",
    "    \"Which desert is the largest in the world?\",\n",
    "    \"What country has the most volcanoes?\",\n",
    "    \"Which sea has the highest salt content?\",\n",
    "    \"What is the highest capital city in the world?\",\n",
    "]"
   ]
  },
  {
   "cell_type": "code",
   "execution_count": null,
   "id": "f1a648fd6687493",
   "metadata": {},
   "outputs": [],
   "source": [
    "for question in questions:\n",
    "    query_vector = text_embedder.run(text=question)[\"embedding\"]\n",
    "    results = retriever.run(query_embedding=query_vector, top_k=3)\n",
    "    print(\"Question\", question)\n",
    "    print(\"Top answers:\")\n",
    "    for result in results[\"documents\"]:\n",
    "        print(\"\\t\", result.content, f\"score = {result.score}\")"
   ]
  },
  {
   "cell_type": "markdown",
   "id": "b8c1f21f1579f52e",
   "metadata": {},
   "source": [
    "#### Semantic search with filtering\n",
    "\n",
    "Vector embeddings capture the meaning of the text quite well. However, our documents may contain some other useful information we also need to consider when searching. For example, semantic search won't capture the price of a product, as it may also vary over time. We can use filters to narrow down the search results."
   ]
  },
  {
   "cell_type": "code",
   "execution_count": null,
   "id": "c07b3d451aa5b5be",
   "metadata": {},
   "outputs": [],
   "source": [
    "new_facts = [\n",
    "    \"The cell is the smallest unit of life. It is the basic structural, functional, and biological unit of all known living organisms. Cells can exist as single-celled organisms or as part of a multicellular organism.\",\n",
    "    \"Mitochondria are often called the powerhouses of the cell because they generate most of the cell's supply of adenosine triphosphate (ATP), the energy currency of cells. They do this through cellular respiration, breaking down glucose to produce energy.\",\n",
    "    \"DNA (deoxyribonucleic acid) is a double-stranded molecule that stores genetic information, while RNA (ribonucleic acid) is typically single-stranded and helps in expressing genes. DNA uses thymine while RNA uses uracil, and their sugars differ (deoxyribose vs. ribose).\",\n",
    "    \"Photosynthesis is the process by which plants and other organisms convert light energy into chemical energy. Plants use sunlight, water, and carbon dioxide to produce glucose and oxygen. This process is crucial as it provides food for plants and produces oxygen that most living things need to survive.\",\n",
    "    \"The four main blood types in humans are A, B, AB, and O. These types are determined by the presence or absence of specific antigens on the surface of red blood cells. Additionally, each type can be either Rh-positive or Rh-negative, creating eight possible blood types.\",\n",
    "]"
   ]
  },
  {
   "cell_type": "code",
   "execution_count": null,
   "id": "4d39d44823da9492",
   "metadata": {},
   "outputs": [],
   "source": [
    "new_documents = [\n",
    "    Document(\n",
    "        id=uuid.uuid4().hex,\n",
    "        content=fact,\n",
    "        meta={\n",
    "            \"source\": \"Wikipedia\",\n",
    "            \"author\": \"John Doe\",\n",
    "            \"date\": \"2025-01-05\",\n",
    "            \"category\": \"Biology\",\n",
    "        },\n",
    "    )\n",
    "    for fact in new_facts\n",
    "]\n",
    "document_embedder.run(documents=new_documents)\n",
    "document_store.write_documents(new_documents)\n",
    "document_store.count_documents()"
   ]
  },
  {
   "cell_type": "code",
   "execution_count": null,
   "id": "75b072d0c2673548",
   "metadata": {},
   "outputs": [],
   "source": [
    "question = \"What is the role of mitochondria in a cell?\"\n",
    "query_vector = text_embedder.run(text=question)[\"embedding\"]\n",
    "results = retriever.run(\n",
    "    query_embedding=query_vector,\n",
    "    top_k=3,\n",
    "    filters={\n",
    "        \"field\": \"meta.category\",\n",
    "        \"operator\": \"==\",\n",
    "        \"value\": \"Geography\",  # Oops! We should be looking for biology facts!\n",
    "    },\n",
    ")\n",
    "\n",
    "print(\"Question\", question)\n",
    "print(\"Top answers:\")\n",
    "for result in results[\"documents\"]:\n",
    "    print(\"\\t\", result.content, f\"score = {result.score}\")"
   ]
  },
  {
   "cell_type": "code",
   "execution_count": null,
   "id": "e4521ea1c3e661fb",
   "metadata": {},
   "outputs": [],
   "source": [
    "results = retriever.run(\n",
    "    query_embedding=query_vector,\n",
    "    top_k=3,\n",
    "    filters={\n",
    "        \"field\": \"meta.category\",\n",
    "        \"operator\": \"==\",\n",
    "        \"value\": \"Biology\",\n",
    "    },\n",
    ")\n",
    "\n",
    "print(\"Question\", question)\n",
    "print(\"Top answers:\")\n",
    "for result in results[\"documents\"]:\n",
    "    print(\"\\t\", result.content, f\"score = {result.score}\")"
   ]
  },
  {
   "cell_type": "code",
   "execution_count": null,
   "id": "56f7bb7545e1d10a",
   "metadata": {},
   "outputs": [],
   "source": []
  }
 ],
 "metadata": {
  "kernelspec": {
   "display_name": "Python 3 (ipykernel)",
   "language": "python",
   "name": "python3"
  },
  "language_info": {
   "codemirror_mode": {
    "name": "ipython",
    "version": 3
   },
   "file_extension": ".py",
   "mimetype": "text/x-python",
   "name": "python",
   "nbconvert_exporter": "python",
   "pygments_lexer": "ipython3",
   "version": "3.10.12"
  }
 },
 "nbformat": 4,
 "nbformat_minor": 5
}
